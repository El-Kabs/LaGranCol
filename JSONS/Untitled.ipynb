{
 "cells": [
  {
   "cell_type": "code",
   "execution_count": 92,
   "metadata": {},
   "outputs": [],
   "source": [
    "import matplotlib.pyplot as plt\n",
    "import json\n",
    "import numpy as np"
   ]
  },
  {
   "cell_type": "code",
   "execution_count": 132,
   "metadata": {},
   "outputs": [
    {
     "data": {
      "text/plain": [
       "dict_keys(['type', 'crs', 'features'])"
      ]
     },
     "execution_count": 132,
     "metadata": {},
     "output_type": "execute_result"
    }
   ],
   "source": [
    "jsonColombia = {}\n",
    "with open('colombia.geo.json', 'r', encoding='utf8') as f:\n",
    "    jsonColombia = json.load(f)\n",
    "jsonColombia.keys()"
   ]
  },
  {
   "cell_type": "code",
   "execution_count": 147,
   "metadata": {},
   "outputs": [
    {
     "data": {
      "text/plain": [
       "25"
      ]
     },
     "execution_count": 147,
     "metadata": {},
     "output_type": "execute_result"
    }
   ],
   "source": [
    "jsonEcuador = {}\n",
    "with open('ecuador.geo.json', 'r') as f:\n",
    "    jsonEcuador = json.load(f)\n",
    "jsonEcuador.keys()\n",
    "len(jsonEcuador['features'])"
   ]
  },
  {
   "cell_type": "code",
   "execution_count": 121,
   "metadata": {},
   "outputs": [
    {
     "data": {
      "text/plain": [
       "dict_keys(['type', 'name', 'crs', 'features'])"
      ]
     },
     "execution_count": 121,
     "metadata": {},
     "output_type": "execute_result"
    }
   ],
   "source": [
    "jsonVenezuela = {}\n",
    "with open('venezuela.geo.json', 'r', encoding='utf8') as f:\n",
    "    jsonVenezuela = json.load(f)\n",
    "jsonVenezuela.keys()"
   ]
  },
  {
   "cell_type": "code",
   "execution_count": 122,
   "metadata": {},
   "outputs": [
    {
     "data": {
      "text/plain": [
       "dict_keys(['type', 'features'])"
      ]
     },
     "execution_count": 122,
     "metadata": {},
     "output_type": "execute_result"
    }
   ],
   "source": [
    "jsonPanama = {}\n",
    "with open('panama.geo.json', 'r', encoding='utf8') as f:\n",
    "    jsonPanama = json.load(f)\n",
    "jsonPanama.keys()"
   ]
  },
  {
   "cell_type": "code",
   "execution_count": 123,
   "metadata": {},
   "outputs": [
    {
     "data": {
      "text/plain": [
       "32"
      ]
     },
     "execution_count": 123,
     "metadata": {},
     "output_type": "execute_result"
    }
   ],
   "source": [
    "len(jsonColombia['features'])"
   ]
  },
  {
   "cell_type": "code",
   "execution_count": 98,
   "metadata": {},
   "outputs": [],
   "source": [
    "jsonColombiaEcuador = {}\n",
    "for x in jsonEcuador['features']:\n",
    "    jsonColombia['features'].append(x)"
   ]
  },
  {
   "cell_type": "code",
   "execution_count": 99,
   "metadata": {},
   "outputs": [
    {
     "data": {
      "text/plain": [
       "57"
      ]
     },
     "execution_count": 99,
     "metadata": {},
     "output_type": "execute_result"
    }
   ],
   "source": [
    "len(jsonColombia['features'])"
   ]
  },
  {
   "cell_type": "code",
   "execution_count": 100,
   "metadata": {},
   "outputs": [],
   "source": [
    "jsonColombiaEcuador = jsonColombia"
   ]
  },
  {
   "cell_type": "code",
   "execution_count": 101,
   "metadata": {},
   "outputs": [],
   "source": [
    "jsonCompleto = {}\n",
    "for x in jsonVenezuela['features']:\n",
    "    jsonColombia['features'].append(x)"
   ]
  },
  {
   "cell_type": "code",
   "execution_count": 102,
   "metadata": {},
   "outputs": [
    {
     "data": {
      "text/plain": [
       "82"
      ]
     },
     "execution_count": 102,
     "metadata": {},
     "output_type": "execute_result"
    }
   ],
   "source": [
    "len(jsonColombia['features'])"
   ]
  },
  {
   "cell_type": "code",
   "execution_count": 103,
   "metadata": {},
   "outputs": [],
   "source": [
    "for x in jsonPanama['features']:\n",
    "    jsonColombia['features'].append(x)"
   ]
  },
  {
   "cell_type": "code",
   "execution_count": 104,
   "metadata": {},
   "outputs": [
    {
     "data": {
      "text/plain": [
       "96"
      ]
     },
     "execution_count": 104,
     "metadata": {},
     "output_type": "execute_result"
    }
   ],
   "source": [
    "len(jsonColombia['features'])"
   ]
  },
  {
   "cell_type": "code",
   "execution_count": 88,
   "metadata": {},
   "outputs": [],
   "source": [
    "jsonCompleto = jsonColombia"
   ]
  },
  {
   "cell_type": "code",
   "execution_count": 109,
   "metadata": {},
   "outputs": [
    {
     "data": {
      "text/plain": [
       "{'id_prov': 1,\n",
       " 'dpa_provin': '01',\n",
       " 'dpa_despro': 'AZUAY',\n",
       " 'dpa_valor': 0,\n",
       " 'dpa_anio': '2012',\n",
       " 'rei_codigo': '05',\n",
       " 'ren_codigo': '01',\n",
       " 'pee_codigo': '593',\n",
       " 'codigo': 1,\n",
       " 'codigo_1': 1,\n",
       " 'nombre': 'AZUAY',\n",
       " 'pob_mas': 337044,\n",
       " 'pob_fem': 375083,\n",
       " 'pob_tot': 712127,\n",
       " 'si_lee': 591470,\n",
       " 'no_lee': 51920,\n",
       " 'total': 643390,\n",
       " 'analfabeti': 6.7,\n",
       " 'promedio_e': 9.01,\n",
       " 'pobres_nbi': 338073,\n",
       " 'no_pobres': 361875,\n",
       " 'pob_nopob_': 699948,\n",
       " 'densidad': 85.7,\n",
       " 'edad_media': 28.85,\n",
       " 'cartodb_id': 1,\n",
       " 'created_at': '2015-04-20T23:35:12Z',\n",
       " 'updated_at': '2015-04-21T16:01:08Z'}"
      ]
     },
     "execution_count": 109,
     "metadata": {},
     "output_type": "execute_result"
    }
   ],
   "source": [
    "jsonEcuador['features'][0]['properties']"
   ]
  },
  {
   "cell_type": "code",
   "execution_count": 105,
   "metadata": {},
   "outputs": [
    {
     "ename": "KeyError",
     "evalue": "'NOMBRE_DPT'",
     "output_type": "error",
     "traceback": [
      "\u001b[1;31m---------------------------------------------------------------------------\u001b[0m",
      "\u001b[1;31mKeyError\u001b[0m                                  Traceback (most recent call last)",
      "\u001b[1;32m<ipython-input-105-acab463cb36b>\u001b[0m in \u001b[0;36m<module>\u001b[1;34m\u001b[0m\n\u001b[0;32m      1\u001b[0m \u001b[0mjsonEcuador\u001b[0m\u001b[1;33m[\u001b[0m\u001b[1;34m'features'\u001b[0m\u001b[1;33m]\u001b[0m\u001b[1;33m[\u001b[0m\u001b[1;36m0\u001b[0m\u001b[1;33m]\u001b[0m\u001b[1;33m[\u001b[0m\u001b[1;34m'properties'\u001b[0m\u001b[1;33m]\u001b[0m\u001b[1;33m\u001b[0m\u001b[0m\n\u001b[0;32m      2\u001b[0m \u001b[1;32mfor\u001b[0m \u001b[0mx\u001b[0m \u001b[1;32min\u001b[0m \u001b[0mjsonEcuador\u001b[0m\u001b[1;33m[\u001b[0m\u001b[1;34m'features'\u001b[0m\u001b[1;33m]\u001b[0m\u001b[1;33m:\u001b[0m\u001b[1;33m\u001b[0m\u001b[0m\n\u001b[1;32m----> 3\u001b[1;33m     \u001b[0mx\u001b[0m\u001b[1;33m[\u001b[0m\u001b[1;34m'properties'\u001b[0m\u001b[1;33m]\u001b[0m\u001b[1;33m[\u001b[0m\u001b[1;34m'DOMINADO'\u001b[0m\u001b[1;33m]\u001b[0m \u001b[1;33m=\u001b[0m \u001b[0mx\u001b[0m\u001b[1;33m[\u001b[0m\u001b[1;34m'properties'\u001b[0m\u001b[1;33m]\u001b[0m\u001b[1;33m[\u001b[0m\u001b[1;34m'NOMBRE_DPT'\u001b[0m\u001b[1;33m]\u001b[0m\u001b[1;33m\u001b[0m\u001b[0m\n\u001b[0m\u001b[0;32m      4\u001b[0m     \u001b[1;32mdel\u001b[0m \u001b[0mx\u001b[0m\u001b[1;33m[\u001b[0m\u001b[1;34m'properties'\u001b[0m\u001b[1;33m]\u001b[0m\u001b[1;33m[\u001b[0m\u001b[1;34m'nombre'\u001b[0m\u001b[1;33m]\u001b[0m\u001b[1;33m\u001b[0m\u001b[0m\n",
      "\u001b[1;31mKeyError\u001b[0m: 'NOMBRE_DPT'"
     ]
    }
   ],
   "source": [
    "\n",
    "for x in jsonEcuador['features']:\n",
    "    x['properties']['DOMINADO'] = x['properties']['NOMBRE_DPT']\n",
    "    del x['properties']['nombre']"
   ]
  },
  {
   "cell_type": "code",
   "execution_count": 124,
   "metadata": {},
   "outputs": [
    {
     "data": {
      "text/plain": [
       "{'NOMBRE_DPT': 'AZUAY', 'DOMINADO': 'AZUAY'}"
      ]
     },
     "execution_count": 124,
     "metadata": {},
     "output_type": "execute_result"
    }
   ],
   "source": [
    "for x in jsonEcuador['features']:\n",
    "    nombre = x['properties']['nombre']\n",
    "    x['properties'].clear()\n",
    "    x['properties']['NOMBRE_DPT'] = nombre.upper()\n",
    "    x['properties']['DOMINADO'] = nombre.upper()\n",
    "jsonEcuador['features'][0]['properties']"
   ]
  },
  {
   "cell_type": "code",
   "execution_count": 125,
   "metadata": {},
   "outputs": [
    {
     "data": {
      "text/plain": [
       "{'ID_0': 249,\n",
       " 'ISO': 'VEN',\n",
       " 'NAME_0': 'Venezuela',\n",
       " 'ID_1': 1,\n",
       " 'NAME_1': 'Amazonas',\n",
       " 'TYPE_1': '',\n",
       " 'ENGTYPE_1': '',\n",
       " 'NL_NAME_1': '',\n",
       " 'VARNAME_1': ''}"
      ]
     },
     "execution_count": 125,
     "metadata": {},
     "output_type": "execute_result"
    }
   ],
   "source": [
    "jsonVenezuela['features'][0]['properties']"
   ]
  },
  {
   "cell_type": "code",
   "execution_count": 126,
   "metadata": {},
   "outputs": [
    {
     "data": {
      "text/plain": [
       "{'NOMBRE_DPT': 'AMAZONAS', 'DOMINADO': 'AMAZONAS'}"
      ]
     },
     "execution_count": 126,
     "metadata": {},
     "output_type": "execute_result"
    }
   ],
   "source": [
    "for x in jsonVenezuela['features']:\n",
    "    nombre = x['properties']['NAME_1'].upper()\n",
    "    x['properties'].clear()\n",
    "    x['properties']['NOMBRE_DPT'] = nombre.upper()\n",
    "    x['properties']['DOMINADO'] = nombre.upper()\n",
    "jsonVenezuela['features'][0]['properties']"
   ]
  },
  {
   "cell_type": "code",
   "execution_count": 127,
   "metadata": {},
   "outputs": [
    {
     "data": {
      "text/plain": [
       "{'OBJECTID': 1,\n",
       " 'Shape_Leng': 1538933.74901,\n",
       " 'Shape_Area': 4625359095.34,\n",
       " 'CODPROV': '01',\n",
       " 'NOMBRE': 'Bocas del Toro',\n",
       " 'AREA': 4631.04}"
      ]
     },
     "execution_count": 127,
     "metadata": {},
     "output_type": "execute_result"
    }
   ],
   "source": [
    "jsonPanama['features'][0]['properties']"
   ]
  },
  {
   "cell_type": "code",
   "execution_count": 128,
   "metadata": {},
   "outputs": [
    {
     "data": {
      "text/plain": [
       "{'NOMBRE_DPT': 'BOCAS DEL TORO', 'DOMINADO': 'BOCAS DEL TORO'}"
      ]
     },
     "execution_count": 128,
     "metadata": {},
     "output_type": "execute_result"
    }
   ],
   "source": [
    "for x in jsonPanama['features']:\n",
    "    nombre = x['properties']['NOMBRE'].upper()\n",
    "    x['properties'].clear()\n",
    "    x['properties']['NOMBRE_DPT'] = nombre.upper()\n",
    "    x['properties']['DOMINADO'] = nombre.upper()\n",
    "jsonPanama['features'][0]['properties']"
   ]
  },
  {
   "cell_type": "code",
   "execution_count": 129,
   "metadata": {},
   "outputs": [],
   "source": [
    "for x in jsonEcuador['features']:\n",
    "    jsonColombia['features'].append(x)\n",
    "for x in jsonVenezuela['features']:\n",
    "    jsonColombia['features'].append(x)   \n",
    "for x in jsonPanama['features']:\n",
    "    jsonColombia['features'].append(x)   "
   ]
  },
  {
   "cell_type": "code",
   "execution_count": 130,
   "metadata": {},
   "outputs": [
    {
     "data": {
      "text/plain": [
       "96"
      ]
     },
     "execution_count": 130,
     "metadata": {},
     "output_type": "execute_result"
    }
   ],
   "source": [
    "len(jsonColombia['features'])"
   ]
  },
  {
   "cell_type": "code",
   "execution_count": 131,
   "metadata": {},
   "outputs": [],
   "source": [
    "with open('granColombia.geo.json', 'w', encoding='utf8') as f:\n",
    "    json.dump(jsonColombia, f)"
   ]
  },
  {
   "cell_type": "code",
   "execution_count": 183,
   "metadata": {},
   "outputs": [],
   "source": [
    "jsonCompl = {}\n",
    "with open('granColombia.geo.json', 'r', encoding='utf8') as f:\n",
    "    jsonCompl = json.load(f)"
   ]
  },
  {
   "cell_type": "code",
   "execution_count": 186,
   "metadata": {},
   "outputs": [
    {
     "data": {
      "text/plain": [
       "{'DPTO': '97',\n",
       " 'NOMBRE_DPT': 'VAUPES - COLOMBIA',\n",
       " 'AREA': 53087838626.98,\n",
       " 'PERIMETER': 1666564.449,\n",
       " 'HECTARES': 5308783.863,\n",
       " 'DOMINADO': 'VAUPES - COLOMBIA',\n",
       " 'CENTROIDE': ['569.6823374407016', '351.9515156018002'],\n",
       " 'FRONTERAS': ['AMAZONAS - COLOMBIA',\n",
       "  'CAQUETA - COLOMBIA',\n",
       "  'GUAVIARE - COLOMBIA',\n",
       "  'GUAINIA - COLOMBIA']}"
      ]
     },
     "execution_count": 186,
     "metadata": {},
     "output_type": "execute_result"
    }
   ],
   "source": [
    "jsonCompl['features'][30]['properties']"
   ]
  },
  {
   "cell_type": "code",
   "execution_count": 185,
   "metadata": {},
   "outputs": [
    {
     "name": "stdout",
     "output_type": "stream",
     "text": [
      "['AMAZONAS - COLOMBIA', 'CAQUETA - COLOMBIA', 'GUAVIARE - COLOMBIA', 'GUAINIA - COLOMBIA']\n"
     ]
    }
   ],
   "source": [
    "for x in range(0, 33):\n",
    "    jsonCompl['features'][x]['properties']['NOMBRE_DPT'] = jsonCompl['features'][x]['properties']['NOMBRE_DPT']\n",
    "    jsonCompl['features'][x]['properties']['DOMINADO'] = jsonCompl['features'][x]['properties']['NOMBRE_DPT']\n",
    "    for b in range(0, len(jsonCompl['features'][x]['properties']['FRONTERAS'])):\n",
    "        jsonCompl['features'][x]['properties']['FRONTERAS'][b] = jsonCompl['features'][x]['properties']['FRONTERAS'][b] + ' - COLOMBIA'\n",
    "print(jsonCompl['features'][30]['properties']['FRONTERAS'])"
   ]
  },
  {
   "cell_type": "code",
   "execution_count": 154,
   "metadata": {},
   "outputs": [
    {
     "name": "stdout",
     "output_type": "stream",
     "text": [
      "{'NOMBRE_DPT': 'AZUAY - ECUADOR', 'DOMINADO': 'AZUAY - ECUADOR'}\n",
      "{'NOMBRE_DPT': 'BOLIVAR - ECUADOR', 'DOMINADO': 'BOLIVAR - ECUADOR'}\n",
      "{'NOMBRE_DPT': 'CAÑAR - ECUADOR', 'DOMINADO': 'CAÑAR - ECUADOR'}\n",
      "{'NOMBRE_DPT': 'CARCHI - ECUADOR', 'DOMINADO': 'CARCHI - ECUADOR'}\n",
      "{'NOMBRE_DPT': 'COTOPAXI - ECUADOR', 'DOMINADO': 'COTOPAXI - ECUADOR'}\n",
      "{'NOMBRE_DPT': 'CHIMBORAZO - ECUADOR', 'DOMINADO': 'CHIMBORAZO - ECUADOR'}\n",
      "{'NOMBRE_DPT': 'EL ORO - ECUADOR', 'DOMINADO': 'EL ORO - ECUADOR'}\n",
      "{'NOMBRE_DPT': 'ESMERALDAS - ECUADOR', 'DOMINADO': 'ESMERALDAS - ECUADOR'}\n",
      "{'NOMBRE_DPT': 'GUAYAS - ECUADOR', 'DOMINADO': 'GUAYAS - ECUADOR'}\n",
      "{'NOMBRE_DPT': 'IMBABURA - ECUADOR', 'DOMINADO': 'IMBABURA - ECUADOR'}\n",
      "{'NOMBRE_DPT': 'LOJA - ECUADOR', 'DOMINADO': 'LOJA - ECUADOR'}\n",
      "{'NOMBRE_DPT': 'LOS RIOS - ECUADOR', 'DOMINADO': 'LOS RIOS - ECUADOR'}\n",
      "{'NOMBRE_DPT': 'MANABI - ECUADOR', 'DOMINADO': 'MANABI - ECUADOR'}\n",
      "{'NOMBRE_DPT': 'MORONA SANTIAGO - ECUADOR', 'DOMINADO': 'MORONA SANTIAGO - ECUADOR'}\n",
      "{'NOMBRE_DPT': 'NAPO - ECUADOR', 'DOMINADO': 'NAPO - ECUADOR'}\n",
      "{'NOMBRE_DPT': 'PASTAZA - ECUADOR', 'DOMINADO': 'PASTAZA - ECUADOR'}\n",
      "{'NOMBRE_DPT': 'TUNGURAHUA - ECUADOR', 'DOMINADO': 'TUNGURAHUA - ECUADOR'}\n",
      "{'NOMBRE_DPT': 'PICHINCHA - ECUADOR', 'DOMINADO': 'PICHINCHA - ECUADOR'}\n",
      "{'NOMBRE_DPT': 'ZAMORA CHINCHIPE - ECUADOR', 'DOMINADO': 'ZAMORA CHINCHIPE - ECUADOR'}\n",
      "{'NOMBRE_DPT': 'GALAPAGOS - ECUADOR', 'DOMINADO': 'GALAPAGOS - ECUADOR'}\n",
      "{'NOMBRE_DPT': 'SUCUMBIOS - ECUADOR', 'DOMINADO': 'SUCUMBIOS - ECUADOR'}\n",
      "{'NOMBRE_DPT': 'ORELLANA - ECUADOR', 'DOMINADO': 'ORELLANA - ECUADOR'}\n",
      "{'NOMBRE_DPT': 'SANTO DOMINGO - ECUADOR', 'DOMINADO': 'SANTO DOMINGO - ECUADOR'}\n",
      "{'NOMBRE_DPT': 'SANTA ELENA - ECUADOR', 'DOMINADO': 'SANTA ELENA - ECUADOR'}\n",
      "{'NOMBRE_DPT': 'ZONAS NO DELIMITADAS - ECUADOR', 'DOMINADO': 'ZONAS NO DELIMITADAS - ECUADOR'}\n"
     ]
    }
   ],
   "source": [
    "for x in range(33, 58):\n",
    "    jsonCompl['features'][x]['properties']['NOMBRE_DPT'] = jsonCompl['features'][x]['properties']['NOMBRE_DPT']+' - ECUADOR'\n",
    "    jsonCompl['features'][x]['properties']['DOMINADO'] = jsonCompl['features'][x]['properties']['NOMBRE_DPT']\n",
    "    print(jsonCompl['features'][x]['properties'])"
   ]
  },
  {
   "cell_type": "code",
   "execution_count": 159,
   "metadata": {},
   "outputs": [
    {
     "name": "stdout",
     "output_type": "stream",
     "text": [
      "{'NOMBRE_DPT': 'ANZOÁTEGUI - VENEZUELA', 'DOMINADO': 'ANZOÁTEGUI - VENEZUELA'}\n",
      "{'NOMBRE_DPT': 'APURE - VENEZUELA', 'DOMINADO': 'APURE - VENEZUELA'}\n",
      "{'NOMBRE_DPT': 'ARAGUA - VENEZUELA', 'DOMINADO': 'ARAGUA - VENEZUELA'}\n",
      "{'NOMBRE_DPT': 'BARINAS - VENEZUELA', 'DOMINADO': 'BARINAS - VENEZUELA'}\n",
      "{'NOMBRE_DPT': 'BOLÍVAR - VENEZUELA', 'DOMINADO': 'BOLÍVAR - VENEZUELA'}\n",
      "{'NOMBRE_DPT': 'CARABOBO - VENEZUELA', 'DOMINADO': 'CARABOBO - VENEZUELA'}\n",
      "{'NOMBRE_DPT': 'COJEDES - VENEZUELA', 'DOMINADO': 'COJEDES - VENEZUELA'}\n",
      "{'NOMBRE_DPT': 'DELTA AMACURO - VENEZUELA', 'DOMINADO': 'DELTA AMACURO - VENEZUELA'}\n",
      "{'NOMBRE_DPT': 'DEPENDENCIAS FEDERALES - VENEZUELA', 'DOMINADO': 'DEPENDENCIAS FEDERALES - VENEZUELA'}\n",
      "{'NOMBRE_DPT': 'DISTRITO CAPITAL - VENEZUELA', 'DOMINADO': 'DISTRITO CAPITAL - VENEZUELA'}\n",
      "{'NOMBRE_DPT': 'FALCÓN - VENEZUELA', 'DOMINADO': 'FALCÓN - VENEZUELA'}\n",
      "{'NOMBRE_DPT': 'GUÁRICO - VENEZUELA', 'DOMINADO': 'GUÁRICO - VENEZUELA'}\n",
      "{'NOMBRE_DPT': 'LARA - VENEZUELA', 'DOMINADO': 'LARA - VENEZUELA'}\n",
      "{'NOMBRE_DPT': 'MÉRIDA - VENEZUELA', 'DOMINADO': 'MÉRIDA - VENEZUELA'}\n",
      "{'NOMBRE_DPT': 'MIRANDA - VENEZUELA', 'DOMINADO': 'MIRANDA - VENEZUELA'}\n",
      "{'NOMBRE_DPT': 'MONAGAS - VENEZUELA', 'DOMINADO': 'MONAGAS - VENEZUELA'}\n",
      "{'NOMBRE_DPT': 'NUEVA ESPARTA - VENEZUELA', 'DOMINADO': 'NUEVA ESPARTA - VENEZUELA'}\n",
      "{'NOMBRE_DPT': 'PORTUGUESA - VENEZUELA', 'DOMINADO': 'PORTUGUESA - VENEZUELA'}\n",
      "{'NOMBRE_DPT': 'SUCRE - VENEZUELA', 'DOMINADO': 'SUCRE - VENEZUELA'}\n",
      "{'NOMBRE_DPT': 'TÁCHIRA - VENEZUELA', 'DOMINADO': 'TÁCHIRA - VENEZUELA'}\n",
      "{'NOMBRE_DPT': 'TRUJILLO - VENEZUELA', 'DOMINADO': 'TRUJILLO - VENEZUELA'}\n",
      "{'NOMBRE_DPT': 'VARGAS - VENEZUELA', 'DOMINADO': 'VARGAS - VENEZUELA'}\n",
      "{'NOMBRE_DPT': 'YARACUY - VENEZUELA', 'DOMINADO': 'YARACUY - VENEZUELA'}\n",
      "{'NOMBRE_DPT': 'ZULIA - VENEZUELA', 'DOMINADO': 'ZULIA - VENEZUELA'}\n"
     ]
    }
   ],
   "source": [
    "for x in range(59, 83):\n",
    "    jsonCompl['features'][x]['properties']['NOMBRE_DPT'] = jsonCompl['features'][x]['properties']['NOMBRE_DPT']+' - VENEZUELA'\n",
    "    jsonCompl['features'][x]['properties']['DOMINADO'] = jsonCompl['features'][x]['properties']['NOMBRE_DPT']\n",
    "    print(jsonCompl['features'][x]['properties'])"
   ]
  },
  {
   "cell_type": "code",
   "execution_count": 161,
   "metadata": {},
   "outputs": [
    {
     "name": "stdout",
     "output_type": "stream",
     "text": [
      "{'NOMBRE_DPT': 'BOCAS DEL TORO - PANAMÁ', 'DOMINADO': 'BOCAS DEL TORO - PANAMÁ'}\n",
      "{'NOMBRE_DPT': 'COCLÉ - PANAMÁ', 'DOMINADO': 'COCLÉ - PANAMÁ'}\n",
      "{'NOMBRE_DPT': 'COMARCA EMBERÁ - PANAMÁ', 'DOMINADO': 'COMARCA EMBERÁ - PANAMÁ'}\n",
      "{'NOMBRE_DPT': 'COMARCA KUNA YALA - PANAMÁ', 'DOMINADO': 'COMARCA KUNA YALA - PANAMÁ'}\n",
      "{'NOMBRE_DPT': 'COMARCA NGÖBE BUGLÉ - PANAMÁ', 'DOMINADO': 'COMARCA NGÖBE BUGLÉ - PANAMÁ'}\n",
      "{'NOMBRE_DPT': 'HERRERA - PANAMÁ', 'DOMINADO': 'HERRERA - PANAMÁ'}\n",
      "{'NOMBRE_DPT': 'LOS SANTOS - PANAMÁ', 'DOMINADO': 'LOS SANTOS - PANAMÁ'}\n",
      "{'NOMBRE_DPT': 'COLÓN - PANAMÁ', 'DOMINADO': 'COLÓN - PANAMÁ'}\n",
      "{'NOMBRE_DPT': 'VERAGUAS - PANAMÁ', 'DOMINADO': 'VERAGUAS - PANAMÁ'}\n",
      "{'NOMBRE_DPT': 'CHIRIQUÍ - PANAMÁ', 'DOMINADO': 'CHIRIQUÍ - PANAMÁ'}\n",
      "{'NOMBRE_DPT': 'COMARCA KUNA DE MADUNGANDÍ - PANAMÁ', 'DOMINADO': 'COMARCA KUNA DE MADUNGANDÍ - PANAMÁ'}\n",
      "{'NOMBRE_DPT': 'PANAMÁ - PANAMÁ', 'DOMINADO': 'PANAMÁ - PANAMÁ'}\n",
      "{'NOMBRE_DPT': 'DARIÉN - PANAMÁ', 'DOMINADO': 'DARIÉN - PANAMÁ'}\n",
      "{'NOMBRE_DPT': 'COMARCA KUNA DE WARGANDÍ - PANAMÁ', 'DOMINADO': 'COMARCA KUNA DE WARGANDÍ - PANAMÁ'}\n"
     ]
    }
   ],
   "source": [
    "for x in range(83, len(jsonCompl['features'])):\n",
    "    jsonCompl['features'][x]['properties']['NOMBRE_DPT'] = jsonCompl['features'][x]['properties']['NOMBRE_DPT']+' - PANAMÁ'\n",
    "    jsonCompl['features'][x]['properties']['DOMINADO'] = jsonCompl['features'][x]['properties']['NOMBRE_DPT']\n",
    "    print(jsonCompl['features'][x]['properties'])"
   ]
  },
  {
   "cell_type": "code",
   "execution_count": 188,
   "metadata": {},
   "outputs": [],
   "source": [
    "with open('granColombia.geo.json', 'w', encoding='utf8') as f:\n",
    "    json.dump(jsonCompl, f)"
   ]
  },
  {
   "cell_type": "code",
   "execution_count": 190,
   "metadata": {},
   "outputs": [
    {
     "data": {
      "text/plain": [
       "{'DPTO': '97',\n",
       " 'NOMBRE_DPT': 'VAUPES - COLOMBIA',\n",
       " 'AREA': 53087838626.98,\n",
       " 'PERIMETER': 1666564.449,\n",
       " 'HECTARES': 5308783.863,\n",
       " 'DOMINADO': 'VAUPES - COLOMBIA',\n",
       " 'CENTROIDE': ['569.6823374407016', '351.9515156018002'],\n",
       " 'FRONTERAS': ['AMAZONAS - COLOMBIA',\n",
       "  'CAQUETA - COLOMBIA',\n",
       "  'GUAVIARE - COLOMBIA',\n",
       "  'GUAINIA - COLOMBIA']}"
      ]
     },
     "execution_count": 190,
     "metadata": {},
     "output_type": "execute_result"
    }
   ],
   "source": [
    "jsonCompl['features'][30]['properties']"
   ]
  },
  {
   "cell_type": "code",
   "execution_count": 187,
   "metadata": {},
   "outputs": [],
   "source": [
    "for x in range(32, len(jsonCompl['features'])):\n",
    "    jsonCompl['features'][x]['properties']['FRONTERAS'] = [\"A\"]"
   ]
  },
  {
   "cell_type": "code",
   "execution_count": null,
   "metadata": {},
   "outputs": [],
   "source": []
  }
 ],
 "metadata": {
  "kernelspec": {
   "display_name": "Python 3",
   "language": "python",
   "name": "python3"
  },
  "language_info": {
   "codemirror_mode": {
    "name": "ipython",
    "version": 3
   },
   "file_extension": ".py",
   "mimetype": "text/x-python",
   "name": "python",
   "nbconvert_exporter": "python",
   "pygments_lexer": "ipython3",
   "version": "3.6.3"
  }
 },
 "nbformat": 4,
 "nbformat_minor": 2
}
